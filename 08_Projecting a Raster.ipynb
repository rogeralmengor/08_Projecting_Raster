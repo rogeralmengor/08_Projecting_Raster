{
 "cells": [
  {
   "cell_type": "markdown",
   "metadata": {},
   "source": [
    "### 08_Projecting_a_Raster"
   ]
  },
  {
   "cell_type": "code",
   "execution_count": 133,
   "metadata": {},
   "outputs": [],
   "source": [
    "import gdal\n",
    "from rasterio.warp import calculate_default_transform, reproject, Resampling\n",
    "from rasterio import rio\n",
    "import subprocess\n",
    "import os"
   ]
  },
  {
   "cell_type": "markdown",
   "metadata": {},
   "source": [
    "##### Getting the basic information of the raster"
   ]
  },
  {
   "cell_type": "code",
   "execution_count": 138,
   "metadata": {},
   "outputs": [
    {
     "name": "stdout",
     "output_type": "stream",
     "text": [
      "Driver: VRT/Virtual Raster\r\n",
      "Files: PAN_msk_alt.vrt\r\n",
      "       ./PAN_msk_alt.gri\r\n",
      "Size is 732, 312\r\n",
      "Coordinate System is:\r\n",
      "GEOGCS[\"WGS 84\",\r\n",
      "    DATUM[\"unknown\",\r\n",
      "        SPHEROID[\"WGS84\",6378137,298.257223563]],\r\n",
      "    PRIMEM[\"Greenwich\",0],\r\n",
      "    UNIT[\"degree\",0.0174532925199433]]\r\n",
      "Origin = (-83.200000000000003,9.699999999999999)\r\n",
      "Pixel Size = (0.008333333000000,-0.008333333000000)\r\n",
      "Corner Coordinates:\r\n",
      "Upper Left  ( -83.2000000,   9.7000000) ( 83d12' 0.00\"W,  9d42' 0.00\"N)\r\n",
      "Lower Left  ( -83.2000000,   7.1000001) ( 83d12' 0.00\"W,  7d 6' 0.00\"N)\r\n",
      "Upper Right ( -77.1000002,   9.7000000) ( 77d 6' 0.00\"W,  9d42' 0.00\"N)\r\n",
      "Lower Right ( -77.1000002,   7.1000001) ( 77d 6' 0.00\"W,  7d 6' 0.00\"N)\r\n",
      "Center      ( -80.1500001,   8.4000001) ( 80d 9' 0.00\"W,  8d24' 0.00\"N)\r\n",
      "Band 1 Block=732x1 Type=Int16, ColorInterp=Undefined\r\n",
      "  Description = PAN_msk_alt\r\n",
      "  NoData Value=-9999\r\n"
     ]
    }
   ],
   "source": [
    "!gdalinfo PAN_msk_alt.vrt"
   ]
  },
  {
   "cell_type": "markdown",
   "metadata": {},
   "source": [
    "##### Converting from vrt to tiff"
   ]
  },
  {
   "cell_type": "code",
   "execution_count": 139,
   "metadata": {},
   "outputs": [
    {
     "name": "stdout",
     "output_type": "stream",
     "text": [
      "Input file size is 732, 312\r\n",
      "0...10...20...30...40...50...60...70...80...90...100 - done.\r\n"
     ]
    }
   ],
   "source": [
    "!gdal_translate \"PAN_msk_alt.vrt\" \"PAN_dem.tif\""
   ]
  },
  {
   "cell_type": "markdown",
   "metadata": {},
   "source": [
    "##### Transforming the raster into a map\n",
    "Calculating the transform information"
   ]
  },
  {
   "cell_type": "markdown",
   "metadata": {},
   "source": [
    "##### Loading raster dataset"
   ]
  },
  {
   "cell_type": "code",
   "execution_count": 140,
   "metadata": {},
   "outputs": [
    {
     "data": {
      "text/plain": [
       "BoundingBox(left=-83.2, bottom=7.100000103999999, right=-77.100000244, top=9.7)"
      ]
     },
     "execution_count": 140,
     "metadata": {},
     "output_type": "execute_result"
    }
   ],
   "source": [
    "import rasterio\n",
    "from rasterio import warp\n",
    "path = 'PAN_dem.tif'\n",
    "raster = rasterio.open(path)\n",
    "raster.bounds\n"
   ]
  },
  {
   "cell_type": "markdown",
   "metadata": {},
   "source": [
    "##### Calculating the transform for the target coordinate system: EPSG:5472 (Panama-Colon 1911/Panama Polyconic"
   ]
  },
  {
   "cell_type": "code",
   "execution_count": 141,
   "metadata": {},
   "outputs": [],
   "source": [
    "src_transform = raster.get_transform()"
   ]
  },
  {
   "cell_type": "code",
   "execution_count": 142,
   "metadata": {},
   "outputs": [],
   "source": [
    "dst_affine, dst_width, dst_height = warp.calculate_default_transform(raster.crs, 5472, raster.width, raster.height,\n",
    "                                 raster.bounds.left, raster.bounds.bottom, raster.bounds.right,\n",
    "                                 raster.bounds.top)"
   ]
  },
  {
   "cell_type": "code",
   "execution_count": 143,
   "metadata": {},
   "outputs": [
    {
     "data": {
      "text/plain": [
       "(Affine(1004.3594008532476, 0.0, 734206.6622683606,\n",
       "        0.0, -1004.3594008532476, 1271031.824124861), 734, 316)"
      ]
     },
     "execution_count": 143,
     "metadata": {},
     "output_type": "execute_result"
    }
   ],
   "source": [
    "dst_affine, dst_width, dst_height"
   ]
  },
  {
   "cell_type": "markdown",
   "metadata": {},
   "source": [
    "##### Reprojecting the raster dataset"
   ]
  },
  {
   "cell_type": "code",
   "execution_count": 144,
   "metadata": {},
   "outputs": [
    {
     "name": "stdout",
     "output_type": "stream",
     "text": [
      "Creating output file that is 737P x 317L.\r\n",
      "Processing PAN_dem.tif [1/1] : 0Using internal nodata values (e.g. -9999) for image PAN_dem.tif.\r\n",
      "Copying nodata values from source PAN_dem.tif to destination PAN_dem_proj.tif.\r\n",
      "...10...20...30...40...50...60...70...80...90...100 - done.\r\n"
     ]
    }
   ],
   "source": [
    "!gdalwarp -overwrite \"PAN_dem.tif\" \"PAN_dem_proj.tif\" -s_srs EPSG:4326 -t_srs EPSG:5472 -tr 1000 1000"
   ]
  },
  {
   "cell_type": "code",
   "execution_count": 145,
   "metadata": {},
   "outputs": [
    {
     "name": "stdout",
     "output_type": "stream",
     "text": [
      "Driver: GTiff/GeoTIFF\r\n",
      "Files: PAN_dem_proj.tif\r\n",
      "Size is 737, 317\r\n",
      "Coordinate System is:\r\n",
      "PROJCS[\"Panama-Colon 1911 / Panama Polyconic\",\r\n",
      "    GEOGCS[\"Panama-Colon 1911\",\r\n",
      "        DATUM[\"Panama_Colon_1911\",\r\n",
      "            SPHEROID[\"Clarke 1866\",6378206.4,294.9786982138982,\r\n",
      "                AUTHORITY[\"EPSG\",\"7008\"]],\r\n",
      "            AUTHORITY[\"EPSG\",\"1072\"]],\r\n",
      "        PRIMEM[\"Greenwich\",0,\r\n",
      "            AUTHORITY[\"EPSG\",\"8901\"]],\r\n",
      "        UNIT[\"degree\",0.0174532925199433,\r\n",
      "            AUTHORITY[\"EPSG\",\"9122\"]],\r\n",
      "        AUTHORITY[\"EPSG\",\"5467\"]],\r\n",
      "    PROJECTION[\"Polyconic\"],\r\n",
      "    PARAMETER[\"latitude_of_origin\",8.25],\r\n",
      "    PARAMETER[\"central_meridian\",-81],\r\n",
      "    PARAMETER[\"false_easting\",1000000],\r\n",
      "    PARAMETER[\"false_northing\",1092972.1],\r\n",
      "    UNIT[\"Clarke's yard\",0.9143917962,\r\n",
      "        AUTHORITY[\"EPSG\",\"9037\"]],\r\n",
      "    AXIS[\"Easting\",EAST],\r\n",
      "    AXIS[\"Northing\",NORTH],\r\n",
      "    AUTHORITY[\"EPSG\",\"5472\"]]\r\n",
      "Origin = (734206.662268360611051,1271031.824124861042947)\r\n",
      "Pixel Size = (1000.000000000000000,-1000.000000000000000)\r\n",
      "Metadata:\r\n",
      "  AREA_OR_POINT=Area\r\n",
      "Image Structure Metadata:\r\n",
      "  INTERLEAVE=BAND\r\n",
      "Corner Coordinates:\r\n",
      "Upper Left  (  734206.662, 1271031.824) ( 83d12'53.29\"W,  9d42'54.08\"N)\r\n",
      "Lower Left  (  734206.662,  954031.824) ( 83d11'59.93\"W,  7d 5'45.45\"N)\r\n",
      "Upper Right ( 1471206.662, 1271031.824) ( 77d 4'25.14\"W,  9d41'58.92\"N)\r\n",
      "Lower Right ( 1471206.662,  954031.824) ( 77d 5'59.53\"W,  7d 5' 5.33\"N)\r\n",
      "Center      ( 1102706.662, 1112531.824) ( 80d 8'50.11\"W,  8d24'38.88\"N)\r\n",
      "Band 1 Block=737x5 Type=Int16, ColorInterp=Gray\r\n",
      "  Description = PAN_msk_alt\r\n",
      "  NoData Value=-9999\r\n"
     ]
    }
   ],
   "source": [
    "!gdalinfo \"PAN_dem_proj.tif\" "
   ]
  }
 ],
 "metadata": {
  "kernelspec": {
   "display_name": "Python 3",
   "language": "python",
   "name": "python3"
  },
  "language_info": {
   "codemirror_mode": {
    "name": "ipython",
    "version": 3
   },
   "file_extension": ".py",
   "mimetype": "text/x-python",
   "name": "python",
   "nbconvert_exporter": "python",
   "pygments_lexer": "ipython3",
   "version": "3.6.8"
  }
 },
 "nbformat": 4,
 "nbformat_minor": 2
}
