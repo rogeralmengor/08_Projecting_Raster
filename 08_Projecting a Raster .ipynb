{
 "cells": [
  {
   "cell_type": "markdown",
   "metadata": {},
   "source": [
    "##### In this example we'll project a raster a known CRS"
   ]
  },
  {
   "cell_type": "code",
   "execution_count": 1,
   "metadata": {},
   "outputs": [],
   "source": [
    "import gdal\n",
    "from rasterio.warp import calculate_default_transform, reproject, Resampling\n",
    "from rasterio import rio\n"
   ]
  },
  {
   "cell_type": "code",
   "execution_count": 2,
   "metadata": {},
   "outputs": [],
   "source": [
    "path = r\"C:\\Users\\Roger\\Documents\\Projects\\Geopandas Cookbook\\data\\PAN_msk_alt\\PAN_msk_alt.gri\""
   ]
  },
  {
   "cell_type": "markdown",
   "metadata": {},
   "source": [
    "##### Getting the basic information of the raster"
   ]
  },
  {
   "cell_type": "code",
   "execution_count": 1,
   "metadata": {},
   "outputs": [
    {
     "name": "stdout",
     "output_type": "stream",
     "text": [
      "ERROR 4: ../data/PAN_msk_alt/PAN_msk_alt.vrt: No such file or directory\r\n",
      "gdalinfo failed - unable to open '../data/PAN_msk_alt/PAN_msk_alt.vrt'.\r\n"
     ]
    }
   ],
   "source": [
    "!gdalinfo ../data/PAN_msk_alt/PAN_msk_alt.vrt"
   ]
  },
  {
   "cell_type": "markdown",
   "metadata": {},
   "source": [
    "##### Converting from vrt to tiff"
   ]
  },
  {
   "cell_type": "code",
   "execution_count": 4,
   "metadata": {},
   "outputs": [
    {
     "name": "stdout",
     "output_type": "stream",
     "text": [
      "Input file size is 732, 312\n",
      "0...10...20...30...40...50...60...70...80...90...100 - done.\n"
     ]
    }
   ],
   "source": [
    "!gdal_translate \"C:\\Users\\Roger\\Documents\\Projects\\Geopandas Cookbook\\data\\PAN_msk_alt\\PAN_msk_alt.vrt\" \"C:\\Users\\Roger\\Documents\\Projects\\Geopandas Cookbook\\data\\PAN_msk_alt\\PAN_msk_alt.tif\""
   ]
  },
  {
   "cell_type": "markdown",
   "metadata": {},
   "source": [
    "##### Transforming the raster into a map\n",
    "Calculating the transform information"
   ]
  },
  {
   "cell_type": "code",
   "execution_count": 5,
   "metadata": {},
   "outputs": [
    {
     "name": "stdout",
     "output_type": "stream",
     "text": [
      "Driver: VRT/Virtual Raster\n",
      "Files: C:/Users/Roger/Documents/Projects/Geopandas Cookbook/data/PAN_msk_alt/PAN_msk_alt.vrt\n",
      "       C:/Users/Roger/Documents/Projects/Geopandas Cookbook/data/PAN_msk_alt\\PAN_msk_alt.gri\n",
      "Size is 732, 312\n",
      "Coordinate System is:\n",
      "GEOGCS[\"WGS 84\",\n",
      "    DATUM[\"unknown\",\n",
      "        SPHEROID[\"WGS84\",6378137,298.257223563]],\n",
      "    PRIMEM[\"Greenwich\",0],\n",
      "    UNIT[\"degree\",0.0174532925199433]]\n",
      "Origin = (-83.200000000000003,9.699999999999999)\n",
      "Pixel Size = (0.008333333000000,-0.008333333000000)\n",
      "Corner Coordinates:\n",
      "Upper Left  ( -83.2000000,   9.7000000) ( 83d12' 0.00\"W,  9d42' 0.00\"N)\n",
      "Lower Left  ( -83.2000000,   7.1000001) ( 83d12' 0.00\"W,  7d 6' 0.00\"N)\n",
      "Upper Right ( -77.1000002,   9.7000000) ( 77d 6' 0.00\"W,  9d42' 0.00\"N)\n",
      "Lower Right ( -77.1000002,   7.1000001) ( 77d 6' 0.00\"W,  7d 6' 0.00\"N)\n",
      "Center      ( -80.1500001,   8.4000001) ( 80d 9' 0.00\"W,  8d24' 0.00\"N)\n",
      "Band 1 Block=732x1 Type=Int16, ColorInterp=Undefined\n",
      "  Description = PAN_msk_alt\n",
      "  NoData Value=-9999\n"
     ]
    }
   ],
   "source": [
    "!gdalinfo \"C:/Users/Roger/Documents/Projects/Geopandas Cookbook/data/PAN_msk_alt/PAN_msk_alt.vrt\" "
   ]
  },
  {
   "cell_type": "markdown",
   "metadata": {},
   "source": [
    "##### Loading raster dataset"
   ]
  },
  {
   "cell_type": "code",
   "execution_count": 7,
   "metadata": {},
   "outputs": [
    {
     "data": {
      "text/plain": [
       "BoundingBox(left=-83.2, bottom=7.100000103999999, right=-77.100000244, top=9.7)"
      ]
     },
     "execution_count": 7,
     "metadata": {},
     "output_type": "execute_result"
    }
   ],
   "source": [
    "import rasterio\n",
    "from rasterio import warp\n",
    "path = r\"C:\\Users\\Roger\\Documents\\Projects\\Geopandas Cookbook\\data\\PAN_msk_alt\\PAN_msk_alt.tif\"\n",
    "raster = rasterio.open(path)\n",
    "raster.bounds\n"
   ]
  },
  {
   "cell_type": "markdown",
   "metadata": {},
   "source": [
    "##### Calculating the transform for the target coordinate system: EPSG:5472 (Panama-Colon 1911/Panama Polyconic"
   ]
  },
  {
   "cell_type": "code",
   "execution_count": 8,
   "metadata": {},
   "outputs": [],
   "source": [
    "src_transform = raster.get_transform()"
   ]
  },
  {
   "cell_type": "code",
   "execution_count": 9,
   "metadata": {},
   "outputs": [],
   "source": [
    "dst_affine, dst_width, dst_height = warp.calculate_default_transform(raster.crs, 5472, raster.width, raster.height,\n",
    "                                 raster.bounds.left, raster.bounds.bottom, raster.bounds.right,\n",
    "                                 raster.bounds.top)"
   ]
  },
  {
   "cell_type": "code",
   "execution_count": 10,
   "metadata": {},
   "outputs": [
    {
     "data": {
      "text/plain": [
       "(Affine(1004.3594008532476, 0.0, 734206.6622683606,\n",
       "        0.0, -1004.3594008532476, 1271031.824124861), 734, 316)"
      ]
     },
     "execution_count": 10,
     "metadata": {},
     "output_type": "execute_result"
    }
   ],
   "source": [
    "dst_affine, dst_width, dst_height"
   ]
  },
  {
   "cell_type": "markdown",
   "metadata": {},
   "source": [
    "##### Reprojecting the raster dataset"
   ]
  },
  {
   "cell_type": "code",
   "execution_count": 11,
   "metadata": {},
   "outputs": [
    {
     "name": "stdout",
     "output_type": "stream",
     "text": [
      "Creating output file that is 737P x 317L.\n",
      "Processing C:\\Users\\Roger\\Documents\\Projects\\Geopandas Cookbook\\data\\PAN_msk_alt\\PAN_msk_alt.tif [1/1] : 0Using internal nodata values (e.g. -9999) for image C:\\Users\\Roger\\Documents\\Projects\\Geopandas Cookbook\\data\\PAN_msk_alt\\PAN_msk_alt.tif.\n",
      "Copying nodata values from source C:\\Users\\Roger\\Documents\\Projects\\Geopandas Cookbook\\data\\PAN_msk_alt\\PAN_msk_alt.tif to destination C:\\Users\\Roger\\Documents\\Projects\\Geopandas Cookbook\\data\\PAN_msk_alt\\PAN_msk_alt_proj.tif.\n",
      "...10...20...30...40...50...60...70...80...90...100 - done.\n"
     ]
    }
   ],
   "source": [
    "!gdalwarp -overwrite \"C:\\Users\\Roger\\Documents\\Projects\\Geopandas Cookbook\\data\\PAN_msk_alt\\PAN_msk_alt.tif\" \"C:\\Users\\Roger\\Documents\\Projects\\Geopandas Cookbook\\data\\PAN_msk_alt\\PAN_msk_alt_proj.tif\" -s_srs EPSG:4326 -t_srs EPSG:5472 -tr 1000 1000"
   ]
  },
  {
   "cell_type": "code",
   "execution_count": 12,
   "metadata": {},
   "outputs": [
    {
     "name": "stdout",
     "output_type": "stream",
     "text": [
      "Driver: GTiff/GeoTIFF\n",
      "Files: C:\\Users\\Roger\\Documents\\Projects\\Geopandas Cookbook\\data\\PAN_msk_alt\\PAN_msk_alt.tif\n",
      "Size is 732, 312\n",
      "Coordinate System is:\n",
      "GEOGCS[\"WGS 84\",\n",
      "    DATUM[\"unknown\",\n",
      "        SPHEROID[\"WGS84\",6378137,298.257223563]],\n",
      "    PRIMEM[\"Greenwich\",0],\n",
      "    UNIT[\"degree\",0.0174532925199433]]\n",
      "Origin = (-83.200000000000003,9.699999999999999)\n",
      "Pixel Size = (0.008333333000000,-0.008333333000000)\n",
      "Metadata:\n",
      "  AREA_OR_POINT=Area\n",
      "Image Structure Metadata:\n",
      "  INTERLEAVE=BAND\n",
      "Corner Coordinates:\n",
      "Upper Left  ( -83.2000000,   9.7000000) ( 83d12' 0.00\"W,  9d42' 0.00\"N)\n",
      "Lower Left  ( -83.2000000,   7.1000001) ( 83d12' 0.00\"W,  7d 6' 0.00\"N)\n",
      "Upper Right ( -77.1000002,   9.7000000) ( 77d 6' 0.00\"W,  9d42' 0.00\"N)\n",
      "Lower Right ( -77.1000002,   7.1000001) ( 77d 6' 0.00\"W,  7d 6' 0.00\"N)\n",
      "Center      ( -80.1500001,   8.4000001) ( 80d 9' 0.00\"W,  8d24' 0.00\"N)\n",
      "Band 1 Block=732x5 Type=Int16, ColorInterp=Gray\n",
      "  Description = PAN_msk_alt\n",
      "  NoData Value=-9999\n"
     ]
    }
   ],
   "source": [
    "!gdalinfo \"C:\\Users\\Roger\\Documents\\Projects\\Geopandas Cookbook\\data\\PAN_msk_alt\\PAN_msk_alt.tif\" "
   ]
  },
  {
   "cell_type": "code",
   "execution_count": 13,
   "metadata": {},
   "outputs": [
    {
     "name": "stdout",
     "output_type": "stream",
     "text": [
      "Driver: GTiff/GeoTIFF\n",
      "Files: C:\\Users\\Roger\\Documents\\Projects\\Geopandas Cookbook\\data\\PAN_msk_alt\\PAN_msk_alt_proj.tif\n",
      "Size is 737, 317\n",
      "Coordinate System is:\n",
      "PROJCS[\"Panama-Colon 1911 / Panama Polyconic\",\n",
      "    GEOGCS[\"Panama-Colon 1911\",\n",
      "        DATUM[\"Panama_Colon_1911\",\n",
      "            SPHEROID[\"Clarke 1866\",6378206.4,294.9786982138982,\n",
      "                AUTHORITY[\"EPSG\",\"7008\"]],\n",
      "            AUTHORITY[\"EPSG\",\"1072\"]],\n",
      "        PRIMEM[\"Greenwich\",0,\n",
      "            AUTHORITY[\"EPSG\",\"8901\"]],\n",
      "        UNIT[\"degree\",0.0174532925199433,\n",
      "            AUTHORITY[\"EPSG\",\"9122\"]],\n",
      "        AUTHORITY[\"EPSG\",\"5467\"]],\n",
      "    PROJECTION[\"Polyconic\"],\n",
      "    PARAMETER[\"latitude_of_origin\",8.25],\n",
      "    PARAMETER[\"central_meridian\",-81],\n",
      "    PARAMETER[\"false_easting\",1000000],\n",
      "    PARAMETER[\"false_northing\",1092972.1],\n",
      "    UNIT[\"Clarke's yard\",0.9143917962,\n",
      "        AUTHORITY[\"EPSG\",\"9037\"]],\n",
      "    AXIS[\"Easting\",EAST],\n",
      "    AXIS[\"Northing\",NORTH],\n",
      "    AUTHORITY[\"EPSG\",\"5472\"]]\n",
      "Origin = (734206.662268360611051,1271031.824124861042947)\n",
      "Pixel Size = (1000.000000000000000,-1000.000000000000000)\n",
      "Metadata:\n",
      "  AREA_OR_POINT=Area\n",
      "Image Structure Metadata:\n",
      "  INTERLEAVE=BAND\n",
      "Corner Coordinates:\n",
      "Upper Left  (  734206.662, 1271031.824) ( 83d12'53.29\"W,  9d42'54.08\"N)\n",
      "Lower Left  (  734206.662,  954031.824) ( 83d11'59.93\"W,  7d 5'45.45\"N)\n",
      "Upper Right ( 1471206.662, 1271031.824) ( 77d 4'25.14\"W,  9d41'58.92\"N)\n",
      "Lower Right ( 1471206.662,  954031.824) ( 77d 5'59.53\"W,  7d 5' 5.33\"N)\n",
      "Center      ( 1102706.662, 1112531.824) ( 80d 8'50.11\"W,  8d24'38.88\"N)\n",
      "Band 1 Block=737x5 Type=Int16, ColorInterp=Gray\n",
      "  Description = PAN_msk_alt\n",
      "  NoData Value=-9999\n"
     ]
    }
   ],
   "source": [
    "!gdalinfo \"C:\\Users\\Roger\\Documents\\Projects\\Geopandas Cookbook\\data\\PAN_msk_alt\\PAN_msk_alt_proj.tif\""
   ]
  },
  {
   "cell_type": "markdown",
   "metadata": {},
   "source": [
    "##### Snippet"
   ]
  }
 ],
 "metadata": {
  "kernelspec": {
   "display_name": "Python 3",
   "language": "python",
   "name": "python3"
  },
  "language_info": {
   "codemirror_mode": {
    "name": "ipython",
    "version": 3
   },
   "file_extension": ".py",
   "mimetype": "text/x-python",
   "name": "python",
   "nbconvert_exporter": "python",
   "pygments_lexer": "ipython3",
   "version": "3.6.8"
  }
 },
 "nbformat": 4,
 "nbformat_minor": 2
}
